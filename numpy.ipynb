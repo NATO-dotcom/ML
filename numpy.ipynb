{
 "cells": [
  {
   "cell_type": "code",
   "execution_count": 37,
   "metadata": {},
   "outputs": [],
   "source": [
    "import numpy as np"
   ]
  },
  {
   "cell_type": "code",
   "execution_count": 2,
   "metadata": {},
   "outputs": [
    {
     "data": {
      "text/plain": [
       "[1, 2, 3, 4, 5, 6, 7, 8, 9, 10]"
      ]
     },
     "execution_count": 2,
     "metadata": {},
     "output_type": "execute_result"
    }
   ],
   "source": [
    "np=[1,2,3,4,5,6,7,8,9,10]\n",
    "np"
   ]
  },
  {
   "cell_type": "code",
   "execution_count": 9,
   "metadata": {},
   "outputs": [
    {
     "data": {
      "text/plain": [
       "array([[1, 1, 1],\n",
       "       [1, 1, 1],\n",
       "       [1, 1, 1]])"
      ]
     },
     "execution_count": 9,
     "metadata": {},
     "output_type": "execute_result"
    }
   ],
   "source": [
    "np.full((3,3),1)"
   ]
  },
  {
   "cell_type": "code",
   "execution_count": 10,
   "metadata": {},
   "outputs": [
    {
     "data": {
      "text/plain": [
       "array([[1., 1., 1.],\n",
       "       [1., 1., 1.],\n",
       "       [1., 1., 1.]])"
      ]
     },
     "execution_count": 10,
     "metadata": {},
     "output_type": "execute_result"
    }
   ],
   "source": [
    "np.ones((3,3))"
   ]
  },
  {
   "cell_type": "code",
   "execution_count": 12,
   "metadata": {},
   "outputs": [
    {
     "data": {
      "text/plain": [
       "array([10, 15, 20, 25, 30, 35, 40, 45])"
      ]
     },
     "execution_count": 12,
     "metadata": {},
     "output_type": "execute_result"
    }
   ],
   "source": [
    "np.arange(10,50,5)"
   ]
  },
  {
   "cell_type": "code",
   "execution_count": 24,
   "metadata": {},
   "outputs": [
    {
     "name": "stdout",
     "output_type": "stream",
     "text": [
      "max1: 5\n",
      "max2: 10\n",
      "min1: 1\n",
      "min2: 6\n",
      "mean1: 3.0\n",
      "mean2: 8.0\n",
      "addition: [ 7  9 11 13 15]\n",
      "multiplication: [ 6 14 24 36 50]\n",
      "dot_product: 130\n"
     ]
    }
   ],
   "source": [
    "\n",
    "arr1=np.array([1,2,3,4,5,])\n",
    "arr2=np.array([6,7,8,9,10])\n",
    "addition=arr1+arr2\n",
    "multiplication=arr1*arr2\n",
    "dot_product=np.dot(arr1,arr2)\n",
    "max1=np.max(arr1)\n",
    "max2=np.max(arr2)\n",
    "min1=np.min(arr1)\n",
    "min2=np.min(arr2)\n",
    "mean1=np.mean(arr1) \n",
    "mean2=np.mean(arr2)\n",
    "print(\"max1:\",max1)\n",
    "print(\"max2:\",max2)\n",
    "print(\"min1:\",min1)\n",
    "print(\"min2:\",min2)\n",
    "print(\"mean1:\",mean1)\n",
    "print(\"mean2:\",mean2)\n",
    "print(\"addition:\",addition) \n",
    "print(\"multiplication:\",multiplication)\n",
    "print(\"dot_product:\",dot_product)\n"
   ]
  },
  {
   "cell_type": "code",
   "execution_count": null,
   "metadata": {},
   "outputs": [
    {
     "name": "stdout",
     "output_type": "stream",
     "text": [
      "[[89 60 41 29 15]\n",
      " [45 65 89 71  9]\n",
      " [88  1  8 88 63]\n",
      " [11 81  8 35 35]\n",
      " [33  5 41 28  7]]\n"
     ]
    }
   ],
   "source": [
    "arr=np.random.randint(1,100,(5,5))\n",
    "print(arr)"
   ]
  },
  {
   "cell_type": "code",
   "execution_count": 46,
   "metadata": {},
   "outputs": [
    {
     "name": "stdout",
     "output_type": "stream",
     "text": [
      "first_row: [89 60 41 29 15]\n",
      "last_row: [33  5 41 28  7]\n",
      "first_column: [89 45 88 11 33]\n",
      "last_column: [15  9 63 35  7]\n"
     ]
    }
   ],
   "source": [
    "first_row=arr[0]\n",
    "last_row=arr[-1]\n",
    "first_column=arr[:,0]\n",
    "last_column=arr[:,-1]\n",
    "print(\"first_row:\",first_row)\n",
    "print(\"last_row:\",last_row)\n",
    "print(\"first_column:\",first_column)\n",
    "print(\"last_column:\",last_column)"
   ]
  },
  {
   "cell_type": "code",
   "execution_count": 48,
   "metadata": {},
   "outputs": [
    {
     "name": "stdout",
     "output_type": "stream",
     "text": [
      "middle_subarray: [[65 89]\n",
      " [ 1  8]]\n"
     ]
    }
   ],
   "source": [
    "middle_subarray=arr[1:3,1:3]\n",
    "print(\"middle_subarray:\",middle_subarray)\n"
   ]
  },
  {
   "cell_type": "code",
   "execution_count": 49,
   "metadata": {},
   "outputs": [
    {
     "name": "stdout",
     "output_type": "stream",
     "text": [
      "[[ 0  0 41 29 15]\n",
      " [45  0  0  0  9]\n",
      " [ 0  1  8  0  0]\n",
      " [11  0  8 35 35]\n",
      " [33  5 41 28  7]]\n"
     ]
    }
   ],
   "source": [
    "arr[arr>50]=0\n",
    "print(arr)"
   ]
  }
 ],
 "metadata": {
  "kernelspec": {
   "display_name": "base",
   "language": "python",
   "name": "python3"
  },
  "language_info": {
   "codemirror_mode": {
    "name": "ipython",
    "version": 3
   },
   "file_extension": ".py",
   "mimetype": "text/x-python",
   "name": "python",
   "nbconvert_exporter": "python",
   "pygments_lexer": "ipython3",
   "version": "3.12.7"
  }
 },
 "nbformat": 4,
 "nbformat_minor": 2
}
